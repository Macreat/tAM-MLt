{
  "cells": [
    {
      "cell_type": "markdown",
      "metadata": {},
      "source": [
        "# PARCIAL 1 TAM (Teoría de Aprendizaje de Máquina) \n"
      ]
    },
    {
      "cell_type": "markdown",
      "metadata": {},
      "source": [
        "## Ej 1 \n",
        "Dado el modelo de regresion : \n",
        "\n",
        "tn = \n",
        "𝜙\n",
        "(\n",
        "𝑥\n",
        "𝑛\n",
        ")\n",
        "⊤\n",
        "𝑤\n",
        "+\n",
        "𝜂\n",
        "𝑛\n",
        "t \n",
        "n\n",
        "​\n",
        " =ϕ(x \n",
        "n\n",
        "​\n",
        " ) \n",
        "⊤\n",
        " w+η \n",
        "n\n",
        "​\n",
        " , con \n",
        "𝜂\n",
        "𝑛\n",
        "∼\n",
        "𝑁\n",
        "(\n",
        "0\n",
        ",\n",
        "𝜎\n",
        "2\n",
        ")\n",
        "η \n",
        "n\n",
        "​\n",
        " ∼N(0,σ \n",
        "2\n",
        " )\n",
        "\n",
        "\n",
        "Presentamos la inferencia o problema de optimización para los siguientes casos asumiendo datos i.i.d : \n"
      ]
    },
    {
      "cell_type": "markdown",
      "metadata": {},
      "source": [
        "### MÍNIMOS CUADRADOS (OLS)"
      ]
    },
    {
      "cell_type": "code",
      "execution_count": null,
      "metadata": {},
      "outputs": [],
      "source": []
    },
    {
      "cell_type": "markdown",
      "metadata": {},
      "source": [
        "### MÍNIMOS CUADRADOS REGULARIZADOS "
      ]
    },
    {
      "cell_type": "code",
      "execution_count": null,
      "metadata": {},
      "outputs": [],
      "source": []
    },
    {
      "cell_type": "markdown",
      "metadata": {},
      "source": [
        "### MÁXIMA VEROSIMILITUD "
      ]
    },
    {
      "cell_type": "markdown",
      "metadata": {},
      "source": [
        "### MÁXIMO A POSTERIORI (MAP)"
      ]
    },
    {
      "cell_type": "markdown",
      "metadata": {},
      "source": [
        "### MODELO BAYESIANO LINEAL GAUSSIANO "
      ]
    },
    {
      "cell_type": "markdown",
      "metadata": {},
      "source": [
        "### REGRESIÓN RÍGIDA KERNEL"
      ]
    },
    {
      "cell_type": "markdown",
      "metadata": {},
      "source": [
        "### PROCESOS GAUSIANOS (GP)"
      ]
    },
    {
      "cell_type": "markdown",
      "metadata": {},
      "source": [
        "### Finalmente discutimos similitudes y diferencias:  "
      ]
    },
    {
      "cell_type": "markdown",
      "metadata": {},
      "source": []
    },
    {
      "cell_type": "markdown",
      "metadata": {},
      "source": [
        "## Ej 2 "
      ]
    },
    {
      "cell_type": "markdown",
      "metadata": {},
      "source": [
        " Utilizando validación cruzada de 5 folds, comparar el rendimiento de varios regresores de sklearn sobre el conjunto de datos Ames Housing. Se deben emplear técnicas de búsqueda de hiperparámetros como GridSearch, RandomSearch y optimización bayesiana. Además, presentar métricas de desempeño como MAE, MSE, R² y MAPE"
      ]
    },
    {
      "cell_type": "markdown",
      "metadata": {},
      "source": [
        "Procedemos con la importación y lectura de los datos: \n"
      ]
    },
    {
      "cell_type": "code",
      "execution_count": 3,
      "metadata": {},
      "outputs": [
        {
          "name": "stdout",
          "output_type": "stream",
          "text": [
            "Collecting gdown\n",
            "  Downloading gdown-5.2.0-py3-none-any.whl (18 kB)\n",
            "Collecting filelock\n",
            "  Using cached filelock-3.18.0-py3-none-any.whl (16 kB)\n",
            "Collecting tqdm\n",
            "  Downloading tqdm-4.67.1-py3-none-any.whl (78 kB)\n",
            "     ---------------------------------------- 78.5/78.5 KB 4.6 MB/s eta 0:00:00\n",
            "Collecting beautifulsoup4\n",
            "  Downloading beautifulsoup4-4.13.4-py3-none-any.whl (187 kB)\n",
            "     -------------------------------------- 187.3/187.3 KB 5.7 MB/s eta 0:00:00\n",
            "Collecting requests[socks]\n",
            "  Using cached requests-2.32.3-py3-none-any.whl (64 kB)\n",
            "Requirement already satisfied: typing-extensions>=4.0.0 in c:\\users\\mateoalmeida\\desktop\\10mo\\tam\\repository\\tam-mlt\\developtamenv\\lib\\site-packages (from beautifulsoup4->gdown) (4.13.2)\n",
            "Collecting soupsieve>1.2\n",
            "  Downloading soupsieve-2.7-py3-none-any.whl (36 kB)\n",
            "Collecting charset-normalizer<4,>=2\n",
            "  Using cached charset_normalizer-3.4.2-cp39-cp39-win_amd64.whl (105 kB)\n",
            "Collecting urllib3<3,>=1.21.1\n",
            "  Using cached urllib3-2.4.0-py3-none-any.whl (128 kB)\n",
            "Collecting certifi>=2017.4.17\n",
            "  Using cached certifi-2025.4.26-py3-none-any.whl (159 kB)\n",
            "Collecting idna<4,>=2.5\n",
            "  Using cached idna-3.10-py3-none-any.whl (70 kB)\n",
            "Collecting PySocks!=1.5.7,>=1.5.6\n",
            "  Downloading PySocks-1.7.1-py3-none-any.whl (16 kB)\n",
            "Requirement already satisfied: colorama in c:\\users\\mateoalmeida\\desktop\\10mo\\tam\\repository\\tam-mlt\\developtamenv\\lib\\site-packages (from tqdm->gdown) (0.4.6)\n",
            "Installing collected packages: urllib3, tqdm, soupsieve, PySocks, idna, filelock, charset-normalizer, certifi, requests, beautifulsoup4, gdown\n",
            "Successfully installed PySocks-1.7.1 beautifulsoup4-4.13.4 certifi-2025.4.26 charset-normalizer-3.4.2 filelock-3.18.0 gdown-5.2.0 idna-3.10 requests-2.32.3 soupsieve-2.7 tqdm-4.67.1 urllib3-2.4.0\n"
          ]
        },
        {
          "name": "stderr",
          "output_type": "stream",
          "text": [
            "WARNING: You are using pip version 22.0.4; however, version 25.1.1 is available.\n",
            "You should consider upgrading via the 'C:\\Users\\MateoAlmeida\\Desktop\\10mo\\TAM\\repository\\tAM-MLt\\DevelopTamEnv\\Scripts\\python.exe -m pip install --upgrade pip' command.\n"
          ]
        }
      ],
      "source": [
        "!pip install gdown "
      ]
    },
    {
      "cell_type": "code",
      "execution_count": 6,
      "metadata": {},
      "outputs": [
        {
          "name": "stderr",
          "output_type": "stream",
          "text": [
            "Downloading...\n",
            "From: https://drive.google.com/uc?id=1g9Yfh9dMHHgZmiqwHKN1ry93XcZQwGl6\n",
            "To: c:\\Users\\MateoAlmeida\\Desktop\\10mo\\TAM\\repository\\tAM-MLt\\DevelopTamEnv\\content\\P1\\dataset.zip\n",
            "100%|██████████| 964k/964k [00:00<00:00, 6.74MB/s]\n"
          ]
        },
        {
          "name": "stdout",
          "output_type": "stream",
          "text": [
            " Volume in drive C has no label.\n",
            " Volume Serial Number is 88F9-A69F\n",
            "\n",
            " Directory of c:\\Users\\MateoAlmeida\\Desktop\\10mo\\TAM\\repository\\tAM-MLt\\DevelopTamEnv\\content\\P1\n",
            "\n",
            "05/06/2025  17:59    <DIR>          .\n",
            "16/05/2025  11:46    <DIR>          ..\n",
            "05/06/2025  17:58             7,910 basis.ipynb\n",
            "05/06/2025  17:30    <DIR>          dataset\n",
            "05/06/2025  17:51           963,738 dataset.zip\n",
            "04/06/2025  19:14         4,575,129 P1AdvanceNotes.pdf\n",
            "16/05/2025  11:37           109,461 Parcial_1_TAM_2025_1.pdf\n",
            "               4 File(s)      5,656,238 bytes\n",
            "               3 Dir(s)  32,689,971,200 bytes free\n"
          ]
        }
      ],
      "source": [
        "import gdown \n",
        "# https://drive.google.com/drive/u/0/folders/1lSsLbXmUSM_FlEzGzQdETGYU66Lt4-Qla\n",
        "# https://drive.google.com/file/d/1g9Yfh9dMHHgZmiqwHKN1ry93XcZQwGl6/view?usp=sharing\n",
        "# https://drive.google.com/drive/folders/1BYM95lIKuGV5df_4NNUTxyNr8gPpZrIk?usp=drive_link\n",
        "\n",
        "# Download dataset from Google Drive\n",
        "\n",
        "\n",
        "fileID = \"1g9Yfh9dMHHgZmiqwHKN1ry93XcZQwGl6\"\n",
        "url = f\"https://drive.google.com/uc?id={fileID}\"\n",
        "output = \"dataset.zip\"\n",
        "gdown.download(url, output, quiet=False)\n",
        "!dir"
      ]
    },
    {
      "cell_type": "code",
      "execution_count": null,
      "metadata": {},
      "outputs": [],
      "source": []
    },
    {
      "cell_type": "code",
      "execution_count": null,
      "metadata": {},
      "outputs": [],
      "source": []
    },
    {
      "cell_type": "markdown",
      "metadata": {},
      "source": []
    }
  ],
  "metadata": {
    "colab": {
      "provenance": []
    },
    "kernelspec": {
      "display_name": "DevelopTamEnv",
      "language": "python",
      "name": "python3"
    },
    "language_info": {
      "codemirror_mode": {
        "name": "ipython",
        "version": 3
      },
      "file_extension": ".py",
      "mimetype": "text/x-python",
      "name": "python",
      "nbconvert_exporter": "python",
      "pygments_lexer": "ipython3",
      "version": "3.9.13"
    }
  },
  "nbformat": 4,
  "nbformat_minor": 0
}
