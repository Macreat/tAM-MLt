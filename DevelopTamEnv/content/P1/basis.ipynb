{
  "cells": [
    {
      "cell_type": "markdown",
      "metadata": {},
      "source": [
        "# PARCIAL 1 TAM (Teoría de Aprendizaje de Máquina) \n"
      ]
    },
    {
      "cell_type": "markdown",
      "metadata": {},
      "source": [
        "## Ej 1 \n"
      ]
    },
    {
      "cell_type": "markdown",
      "metadata": {},
      "source": [
        "Dado el modelo de regresion : \n",
        "\n",
        "tn = \n",
        "𝜙\n",
        "(\n",
        "𝑥\n",
        "𝑛\n",
        ")\n",
        "⊤\n",
        "𝑤\n",
        "+\n",
        "𝜂\n",
        "𝑛\n",
        "t \n",
        "n\n",
        "​\n",
        " =ϕ(x \n",
        "n\n",
        "​\n",
        " ) \n",
        "⊤\n",
        " w+η \n",
        "n\n",
        "​\n",
        " , con \n",
        "𝜂\n",
        "𝑛\n",
        "∼\n",
        "𝑁\n",
        "(\n",
        "0\n",
        ",\n",
        "𝜎\n",
        "2\n",
        ")\n",
        "η \n",
        "n\n",
        "​\n",
        " ∼N(0,σ \n",
        "2\n",
        " ), se solicita presentar el problema de optimización y su solución para diferentes enfoques: mínimos cuadrados, mínimos cuadrados regularizados, máxima verosimilitud, máximo a posteriori, modelo bayesiano lineal gaussiano, regresión ridge kernel y procesos gaussianos. Además, discutir diferencias y similitudes entre estos modelos. "
      ]
    },
    {
      "cell_type": "markdown",
      "metadata": {},
      "source": [
        "## Ej 2 "
      ]
    },
    {
      "cell_type": "markdown",
      "metadata": {},
      "source": [
        " Utilizando validación cruzada de 5 folds, comparar el rendimiento de varios regresores de sklearn sobre el conjunto de datos Ames Housing. Se deben emplear técnicas de búsqueda de hiperparámetros como GridSearch, RandomSearch y optimización bayesiana. Además, presentar métricas de desempeño como MAE, MSE, R² y MAPE"
      ]
    },
    {
      "cell_type": "markdown",
      "metadata": {},
      "source": []
    }
  ],
  "metadata": {
    "colab": {
      "provenance": []
    },
    "kernelspec": {
      "display_name": "DevelopTamEnv",
      "language": "python",
      "name": "python3"
    },
    "language_info": {
      "codemirror_mode": {
        "name": "ipython",
        "version": 3
      },
      "file_extension": ".py",
      "mimetype": "text/x-python",
      "name": "python",
      "nbconvert_exporter": "python",
      "pygments_lexer": "ipython3",
      "version": "3.9.13"
    }
  },
  "nbformat": 4,
  "nbformat_minor": 0
}
