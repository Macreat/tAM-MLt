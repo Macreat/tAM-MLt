{
  "cells": [
    {
      "cell_type": "markdown",
      "metadata": {},
      "source": [
        "# PARCIAL 1 TAM (Teoría de Aprendizaje de Máquina) \n"
      ]
    },
    {
      "cell_type": "markdown",
      "metadata": {},
      "source": [
        "## Ej 1 \n",
        "Dado el modelo de regresion : \n",
        "\n",
        "tn = \n",
        "𝜙\n",
        "(\n",
        "𝑥\n",
        "𝑛\n",
        ")\n",
        "⊤\n",
        "𝑤\n",
        "+\n",
        "𝜂\n",
        "𝑛\n",
        "t \n",
        "n\n",
        "​\n",
        " =ϕ(x \n",
        "n\n",
        "​\n",
        " ) \n",
        "⊤\n",
        " w+η \n",
        "n\n",
        "​\n",
        " , con \n",
        "𝜂\n",
        "𝑛\n",
        "∼\n",
        "𝑁\n",
        "(\n",
        "0\n",
        ",\n",
        "𝜎\n",
        "2\n",
        ")\n",
        "η \n",
        "n\n",
        "​\n",
        " ∼N(0,σ \n",
        "2\n",
        " )\n",
        "\n",
        "\n",
        "Presentamos la inferencia o problema de optimización para los siguientes casos asumiendo datos i.i.d : \n"
      ]
    },
    {
      "cell_type": "markdown",
      "metadata": {},
      "source": [
        "### MÍNIMOS CUADRADOS (OLS)"
      ]
    },
    {
      "cell_type": "code",
      "execution_count": null,
      "metadata": {},
      "outputs": [],
      "source": []
    },
    {
      "cell_type": "markdown",
      "metadata": {},
      "source": [
        "### MÍNIMOS CUADRADOS REGULARIZADOS "
      ]
    },
    {
      "cell_type": "code",
      "execution_count": null,
      "metadata": {},
      "outputs": [],
      "source": []
    },
    {
      "cell_type": "markdown",
      "metadata": {},
      "source": [
        "### MÁXIMA VEROSIMILITUD "
      ]
    },
    {
      "cell_type": "markdown",
      "metadata": {},
      "source": [
        "### MÁXIMO A POSTERIORI (MAP)"
      ]
    },
    {
      "cell_type": "markdown",
      "metadata": {},
      "source": [
        "### MODELO BAYESIANO LINEAL GAUSSIANO "
      ]
    },
    {
      "cell_type": "markdown",
      "metadata": {},
      "source": [
        "### REGRESIÓN RÍGIDA KERNEL"
      ]
    },
    {
      "cell_type": "markdown",
      "metadata": {},
      "source": [
        "### PROCESOS GAUSIANOS (GP)"
      ]
    },
    {
      "cell_type": "markdown",
      "metadata": {},
      "source": [
        "### Finalmente discutimos similitudes y diferencias:  "
      ]
    },
    {
      "cell_type": "markdown",
      "metadata": {},
      "source": []
    },
    {
      "cell_type": "markdown",
      "metadata": {},
      "source": [
        "## Ej 2 "
      ]
    },
    {
      "cell_type": "markdown",
      "metadata": {},
      "source": [
        " Utilizando validación cruzada de 5 folds, comparar el rendimiento de varios regresores de sklearn sobre el conjunto de datos Ames Housing. Se deben emplear técnicas de búsqueda de hiperparámetros como GridSearch, RandomSearch y optimización bayesiana. Además, presentar métricas de desempeño como MAE, MSE, R² y MAPE"
      ]
    },
    {
      "cell_type": "markdown",
      "metadata": {},
      "source": [
        "### Procedemos con la importación y lectura de los datos: \n"
      ]
    },
    {
      "cell_type": "markdown",
      "metadata": {},
      "source": [
        "#### usaremos gdown para descargar desde el drive personal y procederemos con zip file para descomprimir el dataset"
      ]
    },
    {
      "cell_type": "code",
      "execution_count": 1,
      "metadata": {},
      "outputs": [
        {
          "name": "stdout",
          "output_type": "stream",
          "text": [
            "Requirement already satisfied: gdown in c:\\users\\mateoalmeida\\desktop\\10mo\\tam\\repository\\tam-mlt\\developtamenv\\lib\\site-packages (5.2.0)\n",
            "Requirement already satisfied: requests[socks] in c:\\users\\mateoalmeida\\desktop\\10mo\\tam\\repository\\tam-mlt\\developtamenv\\lib\\site-packages (from gdown) (2.32.3)\n",
            "Requirement already satisfied: tqdm in c:\\users\\mateoalmeida\\desktop\\10mo\\tam\\repository\\tam-mlt\\developtamenv\\lib\\site-packages (from gdown) (4.67.1)\n",
            "Requirement already satisfied: beautifulsoup4 in c:\\users\\mateoalmeida\\desktop\\10mo\\tam\\repository\\tam-mlt\\developtamenv\\lib\\site-packages (from gdown) (4.13.4)\n",
            "Requirement already satisfied: filelock in c:\\users\\mateoalmeida\\desktop\\10mo\\tam\\repository\\tam-mlt\\developtamenv\\lib\\site-packages (from gdown) (3.18.0)\n",
            "Requirement already satisfied: soupsieve>1.2 in c:\\users\\mateoalmeida\\desktop\\10mo\\tam\\repository\\tam-mlt\\developtamenv\\lib\\site-packages (from beautifulsoup4->gdown) (2.7)\n",
            "Requirement already satisfied: typing-extensions>=4.0.0 in c:\\users\\mateoalmeida\\desktop\\10mo\\tam\\repository\\tam-mlt\\developtamenv\\lib\\site-packages (from beautifulsoup4->gdown) (4.13.2)\n",
            "Requirement already satisfied: certifi>=2017.4.17 in c:\\users\\mateoalmeida\\desktop\\10mo\\tam\\repository\\tam-mlt\\developtamenv\\lib\\site-packages (from requests[socks]->gdown) (2025.4.26)\n",
            "Requirement already satisfied: charset-normalizer<4,>=2 in c:\\users\\mateoalmeida\\desktop\\10mo\\tam\\repository\\tam-mlt\\developtamenv\\lib\\site-packages (from requests[socks]->gdown) (3.4.2)\n",
            "Requirement already satisfied: idna<4,>=2.5 in c:\\users\\mateoalmeida\\desktop\\10mo\\tam\\repository\\tam-mlt\\developtamenv\\lib\\site-packages (from requests[socks]->gdown) (3.10)\n",
            "Requirement already satisfied: urllib3<3,>=1.21.1 in c:\\users\\mateoalmeida\\desktop\\10mo\\tam\\repository\\tam-mlt\\developtamenv\\lib\\site-packages (from requests[socks]->gdown) (2.4.0)\n",
            "Requirement already satisfied: PySocks!=1.5.7,>=1.5.6 in c:\\users\\mateoalmeida\\desktop\\10mo\\tam\\repository\\tam-mlt\\developtamenv\\lib\\site-packages (from requests[socks]->gdown) (1.7.1)\n",
            "Requirement already satisfied: colorama in c:\\users\\mateoalmeida\\desktop\\10mo\\tam\\repository\\tam-mlt\\developtamenv\\lib\\site-packages (from tqdm->gdown) (0.4.6)\n"
          ]
        },
        {
          "name": "stderr",
          "output_type": "stream",
          "text": [
            "WARNING: You are using pip version 22.0.4; however, version 25.1.1 is available.\n",
            "You should consider upgrading via the 'C:\\Users\\MateoAlmeida\\Desktop\\10mo\\TAM\\repository\\tAM-MLt\\DevelopTamEnv\\Scripts\\python.exe -m pip install --upgrade pip' command.\n"
          ]
        }
      ],
      "source": [
        "!pip install gdown "
      ]
    },
    {
      "cell_type": "code",
      "execution_count": null,
      "metadata": {},
      "outputs": [],
      "source": [
        "\n",
        "# https://drive.google.com/file/d/1bIDY_Xe__gLelZSXLF0KByx4TXmgMwSU/view?usp=sharing"
      ]
    },
    {
      "cell_type": "code",
      "execution_count": 5,
      "metadata": {},
      "outputs": [
        {
          "name": "stderr",
          "output_type": "stream",
          "text": [
            "Downloading...\n",
            "From: https://drive.google.com/uc?id=1bIDY_Xe__gLelZSXLF0KByx4TXmgMwSU\n",
            "To: c:\\Users\\MateoAlmeida\\Desktop\\10mo\\TAM\\repository\\tAM-MLt\\DevelopTamEnv\\content\\P1\\dataset.zip\n",
            "100%|██████████| 183k/183k [00:00<00:00, 906kB/s]\n"
          ]
        },
        {
          "name": "stdout",
          "output_type": "stream",
          "text": [
            " Volume in drive C has no label.\n",
            " Volume Serial Number is 88F9-A69F\n",
            "\n",
            " Directory of c:\\Users\\MateoAlmeida\\Desktop\\10mo\\TAM\\repository\\tAM-MLt\\DevelopTamEnv\\content\\P1\n",
            "\n",
            "05/06/2025  18:31    <DIR>          .\n",
            "16/05/2025  11:46    <DIR>          ..\n",
            "05/06/2025  18:15           182,858 AmesHousing.zip\n",
            "05/06/2025  18:31            16,694 basis.ipynb\n",
            "05/06/2025  18:15    <DIR>          dataset\n",
            "05/06/2025  18:30           182,858 dataset.zip\n",
            "04/06/2025  19:14         4,575,129 P1AdvanceNotes.pdf\n",
            "16/05/2025  11:37           109,461 Parcial_1_TAM_2025_1.pdf\n",
            "               5 File(s)      5,067,000 bytes\n",
            "               3 Dir(s)  23,183,945,728 bytes free\n"
          ]
        }
      ],
      "source": [
        "import gdown \n",
        "# https://drive.google.com/drive/u/0/folders/1lSsLbXmUSM_FlEzGzQdETGYU66Lt4-Qla\n",
        "# https://drive.google.com/file/d/1g9Yfh9dMHHgZmiqwHKN1ry93XcZQwGl6/view?usp=sharing\n",
        "# https://drive.google.com/drive/folders/1BYM95lIKuGV5df_4NNUTxyNr8gPpZrIk?usp=drive_link\n",
        "\n",
        "# Download dataset from Google Drive\n",
        "\n",
        "# https://drive.google.com/file/d/1g9Yfh9dMHHgZmiqwHKN1ry93XcZQwGl6/view?usp=sharing\n",
        "fileID = \"1bIDY_Xe__gLelZSXLF0KByx4TXmgMwSU\"\n",
        "url = f\"https://drive.google.com/uc?id={fileID}\"\n",
        "output = \"dataset.zip\"\n",
        "gdown.download(url, output, quiet=False, fuzzy=True)\n",
        "  \n",
        "!dir"
      ]
    },
    {
      "cell_type": "markdown",
      "metadata": {},
      "source": [
        "#### procedemos descomprimiendo el dataset descargado mediante drive usando ZIPFILE"
      ]
    },
    {
      "cell_type": "code",
      "execution_count": null,
      "metadata": {},
      "outputs": [
        {
          "data": {
            "text/plain": [
              "' second version \\nimport shutil\\nshutil.unpack_archive(\"dataset.zip\", \"ExtractedDataset\", \"zip\")\\n'"
            ]
          },
          "execution_count": 8,
          "metadata": {},
          "output_type": "execute_result"
        }
      ],
      "source": [
        "import zipfile \n",
        "with zipfile.ZipFile(\"dataset.zip\", 'r') as zip_ref:\n",
        "    zip_ref.extractall(\"ExtractedDataset\")\n",
        "\n",
        "''' second version \n",
        "import shutil\n",
        "shutil.unpack_archive(\"dataset.zip\", \"ExtractedDataset\", \"zip\")\n",
        "'''"
      ]
    },
    {
      "cell_type": "markdown",
      "metadata": {},
      "source": [
        "#### una vez con el dataset extraído procedemos a realizar la lectura del csv usando pandas: \n"
      ]
    },
    {
      "cell_type": "code",
      "execution_count": 13,
      "metadata": {},
      "outputs": [
        {
          "name": "stdout",
          "output_type": "stream",
          "text": [
            "<class 'pandas.core.frame.DataFrame'>\n",
            "RangeIndex: 2930 entries, 0 to 2929\n",
            "Data columns (total 82 columns):\n",
            " #   Column           Non-Null Count  Dtype  \n",
            "---  ------           --------------  -----  \n",
            " 0   Order            2930 non-null   int64  \n",
            " 1   PID              2930 non-null   int64  \n",
            " 2   MS SubClass      2930 non-null   int64  \n",
            " 3   MS Zoning        2930 non-null   object \n",
            " 4   Lot Frontage     2440 non-null   float64\n",
            " 5   Lot Area         2930 non-null   int64  \n",
            " 6   Street           2930 non-null   object \n",
            " 7   Alley            198 non-null    object \n",
            " 8   Lot Shape        2930 non-null   object \n",
            " 9   Land Contour     2930 non-null   object \n",
            " 10  Utilities        2930 non-null   object \n",
            " 11  Lot Config       2930 non-null   object \n",
            " 12  Land Slope       2930 non-null   object \n",
            " 13  Neighborhood     2930 non-null   object \n",
            " 14  Condition 1      2930 non-null   object \n",
            " 15  Condition 2      2930 non-null   object \n",
            " 16  Bldg Type        2930 non-null   object \n",
            " 17  House Style      2930 non-null   object \n",
            " 18  Overall Qual     2930 non-null   int64  \n",
            " 19  Overall Cond     2930 non-null   int64  \n",
            " 20  Year Built       2930 non-null   int64  \n",
            " 21  Year Remod/Add   2930 non-null   int64  \n",
            " 22  Roof Style       2930 non-null   object \n",
            " 23  Roof Matl        2930 non-null   object \n",
            " 24  Exterior 1st     2930 non-null   object \n",
            " 25  Exterior 2nd     2930 non-null   object \n",
            " 26  Mas Vnr Type     1155 non-null   object \n",
            " 27  Mas Vnr Area     2907 non-null   float64\n",
            " 28  Exter Qual       2930 non-null   object \n",
            " 29  Exter Cond       2930 non-null   object \n",
            " 30  Foundation       2930 non-null   object \n",
            " 31  Bsmt Qual        2850 non-null   object \n",
            " 32  Bsmt Cond        2850 non-null   object \n",
            " 33  Bsmt Exposure    2847 non-null   object \n",
            " 34  BsmtFin Type 1   2850 non-null   object \n",
            " 35  BsmtFin SF 1     2929 non-null   float64\n",
            " 36  BsmtFin Type 2   2849 non-null   object \n",
            " 37  BsmtFin SF 2     2929 non-null   float64\n",
            " 38  Bsmt Unf SF      2929 non-null   float64\n",
            " 39  Total Bsmt SF    2929 non-null   float64\n",
            " 40  Heating          2930 non-null   object \n",
            " 41  Heating QC       2930 non-null   object \n",
            " 42  Central Air      2930 non-null   object \n",
            " 43  Electrical       2929 non-null   object \n",
            " 44  1st Flr SF       2930 non-null   int64  \n",
            " 45  2nd Flr SF       2930 non-null   int64  \n",
            " 46  Low Qual Fin SF  2930 non-null   int64  \n",
            " 47  Gr Liv Area      2930 non-null   int64  \n",
            " 48  Bsmt Full Bath   2928 non-null   float64\n",
            " 49  Bsmt Half Bath   2928 non-null   float64\n",
            " 50  Full Bath        2930 non-null   int64  \n",
            " 51  Half Bath        2930 non-null   int64  \n",
            " 52  Bedroom AbvGr    2930 non-null   int64  \n",
            " 53  Kitchen AbvGr    2930 non-null   int64  \n",
            " 54  Kitchen Qual     2930 non-null   object \n",
            " 55  TotRms AbvGrd    2930 non-null   int64  \n",
            " 56  Functional       2930 non-null   object \n",
            " 57  Fireplaces       2930 non-null   int64  \n",
            " 58  Fireplace Qu     1508 non-null   object \n",
            " 59  Garage Type      2773 non-null   object \n",
            " 60  Garage Yr Blt    2771 non-null   float64\n",
            " 61  Garage Finish    2771 non-null   object \n",
            " 62  Garage Cars      2929 non-null   float64\n",
            " 63  Garage Area      2929 non-null   float64\n",
            " 64  Garage Qual      2771 non-null   object \n",
            " 65  Garage Cond      2771 non-null   object \n",
            " 66  Paved Drive      2930 non-null   object \n",
            " 67  Wood Deck SF     2930 non-null   int64  \n",
            " 68  Open Porch SF    2930 non-null   int64  \n",
            " 69  Enclosed Porch   2930 non-null   int64  \n",
            " 70  3Ssn Porch       2930 non-null   int64  \n",
            " 71  Screen Porch     2930 non-null   int64  \n",
            " 72  Pool Area        2930 non-null   int64  \n",
            " 73  Pool QC          13 non-null     object \n",
            " 74  Fence            572 non-null    object \n",
            " 75  Misc Feature     106 non-null    object \n",
            " 76  Misc Val         2930 non-null   int64  \n",
            " 77  Mo Sold          2930 non-null   int64  \n",
            " 78  Yr Sold          2930 non-null   int64  \n",
            " 79  Sale Type        2930 non-null   object \n",
            " 80  Sale Condition   2930 non-null   object \n",
            " 81  SalePrice        2930 non-null   int64  \n",
            "dtypes: float64(11), int64(28), object(43)\n",
            "memory usage: 1.8+ MB\n"
          ]
        },
        {
          "data": {
            "text/html": [
              "<div>\n",
              "<style scoped>\n",
              "    .dataframe tbody tr th:only-of-type {\n",
              "        vertical-align: middle;\n",
              "    }\n",
              "\n",
              "    .dataframe tbody tr th {\n",
              "        vertical-align: top;\n",
              "    }\n",
              "\n",
              "    .dataframe thead th {\n",
              "        text-align: right;\n",
              "    }\n",
              "</style>\n",
              "<table border=\"1\" class=\"dataframe\">\n",
              "  <thead>\n",
              "    <tr style=\"text-align: right;\">\n",
              "      <th></th>\n",
              "      <th>Order</th>\n",
              "      <th>PID</th>\n",
              "      <th>MS SubClass</th>\n",
              "      <th>MS Zoning</th>\n",
              "      <th>Lot Frontage</th>\n",
              "      <th>Lot Area</th>\n",
              "      <th>Street</th>\n",
              "      <th>Alley</th>\n",
              "      <th>Lot Shape</th>\n",
              "      <th>Land Contour</th>\n",
              "      <th>...</th>\n",
              "      <th>Pool Area</th>\n",
              "      <th>Pool QC</th>\n",
              "      <th>Fence</th>\n",
              "      <th>Misc Feature</th>\n",
              "      <th>Misc Val</th>\n",
              "      <th>Mo Sold</th>\n",
              "      <th>Yr Sold</th>\n",
              "      <th>Sale Type</th>\n",
              "      <th>Sale Condition</th>\n",
              "      <th>SalePrice</th>\n",
              "    </tr>\n",
              "  </thead>\n",
              "  <tbody>\n",
              "    <tr>\n",
              "      <th>0</th>\n",
              "      <td>1</td>\n",
              "      <td>526301100</td>\n",
              "      <td>20</td>\n",
              "      <td>RL</td>\n",
              "      <td>141.0</td>\n",
              "      <td>31770</td>\n",
              "      <td>Pave</td>\n",
              "      <td>NaN</td>\n",
              "      <td>IR1</td>\n",
              "      <td>Lvl</td>\n",
              "      <td>...</td>\n",
              "      <td>0</td>\n",
              "      <td>NaN</td>\n",
              "      <td>NaN</td>\n",
              "      <td>NaN</td>\n",
              "      <td>0</td>\n",
              "      <td>5</td>\n",
              "      <td>2010</td>\n",
              "      <td>WD</td>\n",
              "      <td>Normal</td>\n",
              "      <td>215000</td>\n",
              "    </tr>\n",
              "    <tr>\n",
              "      <th>1</th>\n",
              "      <td>2</td>\n",
              "      <td>526350040</td>\n",
              "      <td>20</td>\n",
              "      <td>RH</td>\n",
              "      <td>80.0</td>\n",
              "      <td>11622</td>\n",
              "      <td>Pave</td>\n",
              "      <td>NaN</td>\n",
              "      <td>Reg</td>\n",
              "      <td>Lvl</td>\n",
              "      <td>...</td>\n",
              "      <td>0</td>\n",
              "      <td>NaN</td>\n",
              "      <td>MnPrv</td>\n",
              "      <td>NaN</td>\n",
              "      <td>0</td>\n",
              "      <td>6</td>\n",
              "      <td>2010</td>\n",
              "      <td>WD</td>\n",
              "      <td>Normal</td>\n",
              "      <td>105000</td>\n",
              "    </tr>\n",
              "    <tr>\n",
              "      <th>2</th>\n",
              "      <td>3</td>\n",
              "      <td>526351010</td>\n",
              "      <td>20</td>\n",
              "      <td>RL</td>\n",
              "      <td>81.0</td>\n",
              "      <td>14267</td>\n",
              "      <td>Pave</td>\n",
              "      <td>NaN</td>\n",
              "      <td>IR1</td>\n",
              "      <td>Lvl</td>\n",
              "      <td>...</td>\n",
              "      <td>0</td>\n",
              "      <td>NaN</td>\n",
              "      <td>NaN</td>\n",
              "      <td>Gar2</td>\n",
              "      <td>12500</td>\n",
              "      <td>6</td>\n",
              "      <td>2010</td>\n",
              "      <td>WD</td>\n",
              "      <td>Normal</td>\n",
              "      <td>172000</td>\n",
              "    </tr>\n",
              "    <tr>\n",
              "      <th>3</th>\n",
              "      <td>4</td>\n",
              "      <td>526353030</td>\n",
              "      <td>20</td>\n",
              "      <td>RL</td>\n",
              "      <td>93.0</td>\n",
              "      <td>11160</td>\n",
              "      <td>Pave</td>\n",
              "      <td>NaN</td>\n",
              "      <td>Reg</td>\n",
              "      <td>Lvl</td>\n",
              "      <td>...</td>\n",
              "      <td>0</td>\n",
              "      <td>NaN</td>\n",
              "      <td>NaN</td>\n",
              "      <td>NaN</td>\n",
              "      <td>0</td>\n",
              "      <td>4</td>\n",
              "      <td>2010</td>\n",
              "      <td>WD</td>\n",
              "      <td>Normal</td>\n",
              "      <td>244000</td>\n",
              "    </tr>\n",
              "    <tr>\n",
              "      <th>4</th>\n",
              "      <td>5</td>\n",
              "      <td>527105010</td>\n",
              "      <td>60</td>\n",
              "      <td>RL</td>\n",
              "      <td>74.0</td>\n",
              "      <td>13830</td>\n",
              "      <td>Pave</td>\n",
              "      <td>NaN</td>\n",
              "      <td>IR1</td>\n",
              "      <td>Lvl</td>\n",
              "      <td>...</td>\n",
              "      <td>0</td>\n",
              "      <td>NaN</td>\n",
              "      <td>MnPrv</td>\n",
              "      <td>NaN</td>\n",
              "      <td>0</td>\n",
              "      <td>3</td>\n",
              "      <td>2010</td>\n",
              "      <td>WD</td>\n",
              "      <td>Normal</td>\n",
              "      <td>189900</td>\n",
              "    </tr>\n",
              "  </tbody>\n",
              "</table>\n",
              "<p>5 rows × 82 columns</p>\n",
              "</div>"
            ],
            "text/plain": [
              "   Order        PID  MS SubClass MS Zoning  Lot Frontage  Lot Area Street  \\\n",
              "0      1  526301100           20        RL         141.0     31770   Pave   \n",
              "1      2  526350040           20        RH          80.0     11622   Pave   \n",
              "2      3  526351010           20        RL          81.0     14267   Pave   \n",
              "3      4  526353030           20        RL          93.0     11160   Pave   \n",
              "4      5  527105010           60        RL          74.0     13830   Pave   \n",
              "\n",
              "  Alley Lot Shape Land Contour  ... Pool Area Pool QC  Fence Misc Feature  \\\n",
              "0   NaN       IR1          Lvl  ...         0     NaN    NaN          NaN   \n",
              "1   NaN       Reg          Lvl  ...         0     NaN  MnPrv          NaN   \n",
              "2   NaN       IR1          Lvl  ...         0     NaN    NaN         Gar2   \n",
              "3   NaN       Reg          Lvl  ...         0     NaN    NaN          NaN   \n",
              "4   NaN       IR1          Lvl  ...         0     NaN  MnPrv          NaN   \n",
              "\n",
              "  Misc Val Mo Sold Yr Sold Sale Type  Sale Condition  SalePrice  \n",
              "0        0       5    2010       WD           Normal     215000  \n",
              "1        0       6    2010       WD           Normal     105000  \n",
              "2    12500       6    2010       WD           Normal     172000  \n",
              "3        0       4    2010       WD           Normal     244000  \n",
              "4        0       3    2010       WD           Normal     189900  \n",
              "\n",
              "[5 rows x 82 columns]"
            ]
          },
          "execution_count": 13,
          "metadata": {},
          "output_type": "execute_result"
        }
      ],
      "source": [
        "import pandas as pd \n",
        "# Load the dataset\n",
        "housingDF = pd.read_csv(\"ExtractedDataset/\"\n",
        "\"AmesHousing.csv\")\n",
        "#and proceed displaying the info \n",
        "housingDF.info()\n",
        "# Display the first few rows of the dataset\n",
        "housingDF.head()"
      ]
    }
  ],
  "metadata": {
    "colab": {
      "provenance": []
    },
    "kernelspec": {
      "display_name": "DevelopTamEnv",
      "language": "python",
      "name": "python3"
    },
    "language_info": {
      "codemirror_mode": {
        "name": "ipython",
        "version": 3
      },
      "file_extension": ".py",
      "mimetype": "text/x-python",
      "name": "python",
      "nbconvert_exporter": "python",
      "pygments_lexer": "ipython3",
      "version": "3.9.13"
    }
  },
  "nbformat": 4,
  "nbformat_minor": 0
}
